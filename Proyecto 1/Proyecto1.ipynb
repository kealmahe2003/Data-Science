{
 "cells": [
  {
   "cell_type": "code",
   "execution_count": 1,
   "metadata": {},
   "outputs": [
    {
     "name": "stdout",
     "output_type": "stream",
     "text": [
      "Defaulting to user installation because normal site-packages is not writeable\n",
      "Requirement already satisfied: pandas in c:\\users\\kealm\\appdata\\local\\packages\\pythonsoftwarefoundation.python.3.12_qbz5n2kfra8p0\\localcache\\local-packages\\python312\\site-packages (2.2.3)\n",
      "Requirement already satisfied: numpy>=1.26.0 in c:\\users\\kealm\\appdata\\local\\packages\\pythonsoftwarefoundation.python.3.12_qbz5n2kfra8p0\\localcache\\local-packages\\python312\\site-packages (from pandas) (2.1.3)\n",
      "Requirement already satisfied: python-dateutil>=2.8.2 in c:\\users\\kealm\\appdata\\local\\packages\\pythonsoftwarefoundation.python.3.12_qbz5n2kfra8p0\\localcache\\local-packages\\python312\\site-packages (from pandas) (2.9.0.post0)\n",
      "Requirement already satisfied: pytz>=2020.1 in c:\\users\\kealm\\appdata\\local\\packages\\pythonsoftwarefoundation.python.3.12_qbz5n2kfra8p0\\localcache\\local-packages\\python312\\site-packages (from pandas) (2025.1)\n",
      "Requirement already satisfied: tzdata>=2022.7 in c:\\users\\kealm\\appdata\\local\\packages\\pythonsoftwarefoundation.python.3.12_qbz5n2kfra8p0\\localcache\\local-packages\\python312\\site-packages (from pandas) (2025.1)\n",
      "Requirement already satisfied: six>=1.5 in c:\\users\\kealm\\appdata\\local\\packages\\pythonsoftwarefoundation.python.3.12_qbz5n2kfra8p0\\localcache\\local-packages\\python312\\site-packages (from python-dateutil>=2.8.2->pandas) (1.16.0)\n",
      "Note: you may need to restart the kernel to use updated packages.\n"
     ]
    },
    {
     "name": "stderr",
     "output_type": "stream",
     "text": [
      "\n",
      "[notice] A new release of pip is available: 24.3.1 -> 25.0.1\n",
      "[notice] To update, run: C:\\Users\\kealm\\AppData\\Local\\Microsoft\\WindowsApps\\PythonSoftwareFoundation.Python.3.12_qbz5n2kfra8p0\\python.exe -m pip install --upgrade pip\n"
     ]
    },
    {
     "name": "stdout",
     "output_type": "stream",
     "text": [
      "Defaulting to user installation because normal site-packages is not writeable\n",
      "Requirement already satisfied: sqlalchemy in c:\\users\\kealm\\appdata\\local\\packages\\pythonsoftwarefoundation.python.3.12_qbz5n2kfra8p0\\localcache\\local-packages\\python312\\site-packages (2.0.38)\n",
      "Requirement already satisfied: greenlet!=0.4.17 in c:\\users\\kealm\\appdata\\local\\packages\\pythonsoftwarefoundation.python.3.12_qbz5n2kfra8p0\\localcache\\local-packages\\python312\\site-packages (from sqlalchemy) (3.1.1)\n",
      "Requirement already satisfied: typing-extensions>=4.6.0 in c:\\users\\kealm\\appdata\\local\\packages\\pythonsoftwarefoundation.python.3.12_qbz5n2kfra8p0\\localcache\\local-packages\\python312\\site-packages (from sqlalchemy) (4.12.2)\n",
      "Note: you may need to restart the kernel to use updated packages.\n"
     ]
    },
    {
     "name": "stderr",
     "output_type": "stream",
     "text": [
      "\n",
      "[notice] A new release of pip is available: 24.3.1 -> 25.0.1\n",
      "[notice] To update, run: C:\\Users\\kealm\\AppData\\Local\\Microsoft\\WindowsApps\\PythonSoftwareFoundation.Python.3.12_qbz5n2kfra8p0\\python.exe -m pip install --upgrade pip\n"
     ]
    },
    {
     "name": "stdout",
     "output_type": "stream",
     "text": [
      "Defaulting to user installation because normal site-packages is not writeable\n",
      "Requirement already satisfied: psycopg2 in c:\\users\\kealm\\appdata\\local\\packages\\pythonsoftwarefoundation.python.3.12_qbz5n2kfra8p0\\localcache\\local-packages\\python312\\site-packages (2.9.10)\n",
      "Note: you may need to restart the kernel to use updated packages.\n"
     ]
    },
    {
     "name": "stderr",
     "output_type": "stream",
     "text": [
      "\n",
      "[notice] A new release of pip is available: 24.3.1 -> 25.0.1\n",
      "[notice] To update, run: C:\\Users\\kealm\\AppData\\Local\\Microsoft\\WindowsApps\\PythonSoftwareFoundation.Python.3.12_qbz5n2kfra8p0\\python.exe -m pip install --upgrade pip\n"
     ]
    }
   ],
   "source": [
    "%pip install pandas \n",
    "%pip install sqlalchemy\n",
    "%pip install psycopg2"
   ]
  },
  {
   "cell_type": "code",
   "execution_count": 2,
   "metadata": {},
   "outputs": [
    {
     "name": "stdout",
     "output_type": "stream",
     "text": [
      "Extrayendo datos del CSV...\n",
      "Datos extraídos correctamente.\n",
      "------------------------------------\n"
     ]
    },
    {
     "data": {
      "text/html": [
       "<div>\n",
       "<style scoped>\n",
       "    .dataframe tbody tr th:only-of-type {\n",
       "        vertical-align: middle;\n",
       "    }\n",
       "\n",
       "    .dataframe tbody tr th {\n",
       "        vertical-align: top;\n",
       "    }\n",
       "\n",
       "    .dataframe thead th {\n",
       "        text-align: right;\n",
       "    }\n",
       "</style>\n",
       "<table border=\"1\" class=\"dataframe\">\n",
       "  <thead>\n",
       "    <tr style=\"text-align: right;\">\n",
       "      <th></th>\n",
       "      <th>invoice_no</th>\n",
       "      <th>customer_id</th>\n",
       "      <th>gender</th>\n",
       "      <th>age</th>\n",
       "      <th>category</th>\n",
       "      <th>quantity</th>\n",
       "      <th>price</th>\n",
       "      <th>payment_method</th>\n",
       "      <th>invoice_date</th>\n",
       "      <th>shopping_mall</th>\n",
       "    </tr>\n",
       "  </thead>\n",
       "  <tbody>\n",
       "    <tr>\n",
       "      <th>0</th>\n",
       "      <td>I138884</td>\n",
       "      <td>C241288</td>\n",
       "      <td>Female</td>\n",
       "      <td>28</td>\n",
       "      <td>Clothing</td>\n",
       "      <td>5</td>\n",
       "      <td>1500.40</td>\n",
       "      <td>Credit Card</td>\n",
       "      <td>5/8/2022</td>\n",
       "      <td>Kanyon</td>\n",
       "    </tr>\n",
       "    <tr>\n",
       "      <th>1</th>\n",
       "      <td>I317333</td>\n",
       "      <td>C111565</td>\n",
       "      <td>Male</td>\n",
       "      <td>21</td>\n",
       "      <td>Shoes</td>\n",
       "      <td>3</td>\n",
       "      <td>1800.51</td>\n",
       "      <td>Debit Card</td>\n",
       "      <td>12/12/2021</td>\n",
       "      <td>Forum Istanbul</td>\n",
       "    </tr>\n",
       "    <tr>\n",
       "      <th>2</th>\n",
       "      <td>I127801</td>\n",
       "      <td>C266599</td>\n",
       "      <td>Male</td>\n",
       "      <td>20</td>\n",
       "      <td>Clothing</td>\n",
       "      <td>1</td>\n",
       "      <td>300.08</td>\n",
       "      <td>Cash</td>\n",
       "      <td>9/11/2021</td>\n",
       "      <td>Metrocity</td>\n",
       "    </tr>\n",
       "    <tr>\n",
       "      <th>3</th>\n",
       "      <td>I173702</td>\n",
       "      <td>C988172</td>\n",
       "      <td>Female</td>\n",
       "      <td>66</td>\n",
       "      <td>Shoes</td>\n",
       "      <td>5</td>\n",
       "      <td>3000.85</td>\n",
       "      <td>Credit Card</td>\n",
       "      <td>16/05/2021</td>\n",
       "      <td>Metropol AVM</td>\n",
       "    </tr>\n",
       "    <tr>\n",
       "      <th>4</th>\n",
       "      <td>I337046</td>\n",
       "      <td>C189076</td>\n",
       "      <td>Female</td>\n",
       "      <td>53</td>\n",
       "      <td>Books</td>\n",
       "      <td>4</td>\n",
       "      <td>60.60</td>\n",
       "      <td>Cash</td>\n",
       "      <td>24/10/2021</td>\n",
       "      <td>Kanyon</td>\n",
       "    </tr>\n",
       "  </tbody>\n",
       "</table>\n",
       "</div>"
      ],
      "text/plain": [
       "  invoice_no customer_id  gender  age  category  quantity    price  \\\n",
       "0    I138884     C241288  Female   28  Clothing         5  1500.40   \n",
       "1    I317333     C111565    Male   21     Shoes         3  1800.51   \n",
       "2    I127801     C266599    Male   20  Clothing         1   300.08   \n",
       "3    I173702     C988172  Female   66     Shoes         5  3000.85   \n",
       "4    I337046     C189076  Female   53     Books         4    60.60   \n",
       "\n",
       "  payment_method invoice_date   shopping_mall  \n",
       "0    Credit Card     5/8/2022          Kanyon  \n",
       "1     Debit Card   12/12/2021  Forum Istanbul  \n",
       "2           Cash    9/11/2021       Metrocity  \n",
       "3    Credit Card   16/05/2021    Metropol AVM  \n",
       "4           Cash   24/10/2021          Kanyon  "
      ]
     },
     "execution_count": 2,
     "metadata": {},
     "output_type": "execute_result"
    }
   ],
   "source": [
    "import pandas as pd\n",
    "\n",
    "# Extracción: Cargar datos desde el archivo movies.csv\n",
    "print(\"Extrayendo datos del CSV...\")\n",
    "csv_file = \"customer_shopping_data.csv\"  # Ruta del archivo CSV\n",
    "df = pd.read_csv(csv_file)\n",
    "print(\"Datos extraídos correctamente.\")\n",
    "print('------------------------------------')\n",
    "\n",
    "df.head()  # Muestra las primeras filas para verificar"
   ]
  },
  {
   "cell_type": "code",
   "execution_count": 3,
   "metadata": {},
   "outputs": [
    {
     "name": "stdout",
     "output_type": "stream",
     "text": [
      "<class 'pandas.core.frame.DataFrame'>\n",
      "RangeIndex: 99457 entries, 0 to 99456\n",
      "Data columns (total 10 columns):\n",
      " #   Column          Non-Null Count  Dtype  \n",
      "---  ------          --------------  -----  \n",
      " 0   invoice_no      99457 non-null  object \n",
      " 1   customer_id     99457 non-null  object \n",
      " 2   gender          99457 non-null  object \n",
      " 3   age             99457 non-null  int64  \n",
      " 4   category        99457 non-null  object \n",
      " 5   quantity        99457 non-null  int64  \n",
      " 6   price           99457 non-null  float64\n",
      " 7   payment_method  99457 non-null  object \n",
      " 8   invoice_date    99457 non-null  object \n",
      " 9   shopping_mall   99457 non-null  object \n",
      "dtypes: float64(1), int64(2), object(7)\n",
      "memory usage: 7.6+ MB\n"
     ]
    }
   ],
   "source": [
    "df.info()  # Muestra información general del DataFrame"
   ]
  },
  {
   "cell_type": "code",
   "execution_count": null,
   "metadata": {},
   "outputs": [
    {
     "name": "stdout",
     "output_type": "stream",
     "text": [
      "Transformando datos...\n",
      "Dimensiones del DataFrame:\n",
      "  customer_id  gender  age\n",
      "0     C241288  Female   28\n",
      "1     C111565    Male   21\n",
      "2     C266599    Male   20\n",
      "3     C988172  Female   66\n",
      "4     C189076  Female   53\n",
      "---------------------------------\n",
      "           category\n",
      "0          Clothing\n",
      "1             Shoes\n",
      "4             Books\n",
      "6         Cosmetics\n",
      "10  Food & Beverage\n",
      "---------------------------------\n",
      "  payment_method\n",
      "0    Credit Card\n",
      "1     Debit Card\n",
      "2           Cash\n",
      "---------------------------------\n",
      "  invoice_date  year  month  day week_day\n",
      "0   2022-08-05  2022      8    5   Friday\n",
      "1   2021-12-12  2021     12   12   Sunday\n",
      "2   2021-11-09  2021     11    9  Tuesday\n",
      "3   2021-05-16  2021      5   16   Sunday\n",
      "4   2021-10-24  2021     10   24   Sunday\n",
      "---------------------------------\n",
      "    shopping_mall\n",
      "0          Kanyon\n",
      "1  Forum Istanbul\n",
      "2       Metrocity\n",
      "3    Metropol AVM\n",
      "6    Istinye Park\n",
      "---------------------------------\n",
      "  invoice_no customer_id  category  quantity    price payment_method  \\\n",
      "0    I138884     C241288  Clothing         5  1500.40    Credit Card   \n",
      "1    I317333     C111565     Shoes         3  1800.51     Debit Card   \n",
      "2    I127801     C266599  Clothing         1   300.08           Cash   \n",
      "3    I173702     C988172     Shoes         5  3000.85    Credit Card   \n",
      "4    I337046     C189076     Books         4    60.60           Cash   \n",
      "\n",
      "  invoice_date   shopping_mall  \n",
      "0   2022-08-05          Kanyon  \n",
      "1   2021-12-12  Forum Istanbul  \n",
      "2   2021-11-09       Metrocity  \n",
      "3   2021-05-16    Metropol AVM  \n",
      "4   2021-10-24          Kanyon  \n",
      "---------------------------------\n"
     ]
    }
   ],
   "source": [
    "# Transformación: Limpiar y modificar datos\n",
    "print(\"Transformando datos...\")\n",
    "\n",
    "# Dimensiones del DataFrame\n",
    "print(\"Dimensiones del DataFrame:\")\n",
    "df_customers = df[['customer_id', 'gender', 'age']].drop_duplicates()\n",
    "\n",
    "df_products = df[['category']].drop_duplicates().rename(columns={'category': 'category'})\n",
    "\n",
    "df_payment = df[['payment_method']].drop_duplicates()\n",
    "\n",
    "df['invoice_date'] = pd.to_datetime(df['invoice_date'], dayfirst=True)  # Convertir a formato de fecha con dayfirst=True\n",
    "\n",
    "df_date = df[['invoice_date']].drop_duplicates().copy()\n",
    "df_date['year'] = df_date['invoice_date'].dt.year\n",
    "df_date['month'] = df_date['invoice_date'].dt.month\n",
    "df_date['day'] = df_date['invoice_date'].dt.day\n",
    "df_date['week_day'] = df_date['invoice_date'].dt.strftime('%A')\n",
    "\n",
    "df_malls = df[['shopping_mall']].drop_duplicates()\n",
    "\n",
    "df_fact_sales = df[['invoice_no', 'customer_id', 'category', 'quantity', 'price', 'payment_method', 'invoice_date', 'shopping_mall']]\n",
    "\n",
    "\n",
    "print('---------------------------------')\n",
    "print(df_customers.head())  # Ver clientes\n",
    "print('---------------------------------')\n",
    "print(df_products.head())   # Ver productos\n",
    "print('---------------------------------')\n",
    "print(df_payment.head())    # Ver métodos de pago\n",
    "print('---------------------------------')\n",
    "print(df_date.head())       # Ver fechas\n",
    "print('---------------------------------')\n",
    "print(df_malls.head())      # Ver centros comerciales\n",
    "print('---------------------------------')\n",
    "print(df_fact_sales.head()) # Ver la tabla de hechos\n",
    "print('---------------------------------')\n"
   ]
  },
  {
   "cell_type": "code",
   "execution_count": 16,
   "metadata": {},
   "outputs": [
    {
     "name": "stdout",
     "output_type": "stream",
     "text": [
      "Cargando datos en la base de datos PostgreSQL...\n",
      "Conexión exitosa\n"
     ]
    }
   ],
   "source": [
    "# Carga: Insertar datos en una base de datos PostgreSQL en NeonDB\n",
    "print(\"Cargando datos en la base de datos PostgreSQL...\")\n",
    "\n",
    "# Configuración de conexión\n",
    "DB_USER = \"postgres\"\n",
    "DB_PASSWORD = \"1234\"\n",
    "DB_HOST = \"localhost\"\n",
    "DB_PORT = \"5432\"\n",
    "DB_NAME = \"proyecto-DS\"\n",
    "\n",
    "# Crear conexión a PostgreSQL\n",
    "engine = create_engine(f'postgresql://{DB_USER}:{DB_PASSWORD}@{DB_HOST}:{DB_PORT}/{DB_NAME}')\n",
    "print(\"Conexión exitosa\")"
   ]
  },
  {
   "cell_type": "code",
   "execution_count": 17,
   "metadata": {},
   "outputs": [
    {
     "name": "stdout",
     "output_type": "stream",
     "text": [
      "Datos de dimensiones cargados correctamente\n",
      "Datos de fact_sales cargados correctamente\n"
     ]
    }
   ],
   "source": [
    "# Cargar clientes\n",
    "df_customers.to_sql('dim_customer', con=engine, if_exists='append', index=False)\n",
    "\n",
    "# Cargar productos\n",
    "df_products.to_sql('dim_product', con=engine, if_exists='append', index=False)\n",
    "\n",
    "# Cargar métodos de pago\n",
    "df_payment.to_sql('dim_payment', con=engine, if_exists='append', index=False)\n",
    "\n",
    "# Cargar fechas\n",
    "df_date.to_sql('dim_date', con=engine, if_exists='append', index=False)\n",
    "\n",
    "# Cargar centros comerciales\n",
    "df_malls.to_sql('dim_mall', con=engine, if_exists='append', index=False)\n",
    "\n",
    "print(\"Datos de dimensiones cargados correctamente\")\n",
    "\n",
    "df_fact_sales.to_sql('fact_sales', con=engine, if_exists='append', index=False)\n",
    "print(\"Datos de fact_sales cargados correctamente\")\n"
   ]
  }
 ],
 "metadata": {
  "kernelspec": {
   "display_name": "Python 3",
   "language": "python",
   "name": "python3"
  },
  "language_info": {
   "codemirror_mode": {
    "name": "ipython",
    "version": 3
   },
   "file_extension": ".py",
   "mimetype": "text/x-python",
   "name": "python",
   "nbconvert_exporter": "python",
   "pygments_lexer": "ipython3",
   "version": "3.12.9"
  }
 },
 "nbformat": 4,
 "nbformat_minor": 2
}
